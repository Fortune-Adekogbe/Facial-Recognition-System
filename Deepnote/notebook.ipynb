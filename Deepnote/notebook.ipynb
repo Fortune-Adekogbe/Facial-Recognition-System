{
 "cells": [
  {
   "cell_type": "markdown",
   "source": [
    "# Facial Recognition System"
   ],
   "metadata": {
    "cell_id": "299b9b468fd841a8a02cb34788d52f5d",
    "tags": [],
    "deepnote_cell_type": "markdown",
    "deepnote_cell_height": 82,
    "pycharm": {
     "name": "#%% md\n"
    }
   }
  },
  {
   "cell_type": "code",
   "metadata": {
    "cell_id": "328d0aa1c9794df3aa772eb5b0312825",
    "tags": [],
    "deepnote_to_be_reexecuted": false,
    "source_hash": "fff14f1f",
    "execution_start": 1657668002727,
    "execution_millis": 64740,
    "deepnote_cell_type": "code",
    "deepnote_cell_height": 99,
    "pycharm": {
     "name": "#%%\n"
    }
   },
   "source": [
    "from getpass import getpass\n",
    "uplink_key = getpass('Enter your Uplink key: ')"
   ],
   "execution_count": 1,
   "outputs": []
  },
  {
   "cell_type": "code",
   "metadata": {
    "cell_id": "c366610f7152402898bcf38863266f35",
    "tags": [],
    "deepnote_to_be_reexecuted": false,
    "source_hash": "fb64f886",
    "execution_start": 1657669010206,
    "execution_millis": 475,
    "deepnote_cell_type": "code",
    "deepnote_cell_height": 206,
    "pycharm": {
     "name": "#%%\n"
    }
   },
   "source": [
    "import anvil.server\n",
    "import anvil.media\n",
    "\n",
    "anvil.server.connect(uplink_key)"
   ],
   "execution_count": 3,
   "outputs": [
    {
     "name": "stdout",
     "text": "Connecting to wss://anvil.works/uplink\nAnvil websocket open\nConnected to \"Default environment\" as SERVER\n",
     "output_type": "stream"
    }
   ]
  },
  {
   "cell_type": "code",
   "metadata": {
    "cell_id": "6fd58e94391d454e9abf321c357e5b67",
    "tags": [],
    "deepnote_to_be_reexecuted": false,
    "source_hash": "a1c937a",
    "execution_start": 1657669014283,
    "execution_millis": 1979,
    "deepnote_cell_type": "code",
    "deepnote_cell_height": 135,
    "pycharm": {
     "name": "#%%\n"
    }
   },
   "source": [
    "import os\n",
    "import numpy as np\n",
    "import joblib\n",
    "import face_recognition"
   ],
   "execution_count": 4,
   "outputs": []
  },
  {
   "cell_type": "code",
   "metadata": {
    "cell_id": "9f4c65f3e7a440a988807468929ebfde",
    "tags": [],
    "deepnote_to_be_reexecuted": false,
    "source_hash": "37119af0",
    "execution_start": 1657669016273,
    "execution_millis": 7907,
    "deepnote_cell_type": "code",
    "deepnote_cell_height": 504.1875,
    "deepnote_output_heights": [
     null,
     21.1875
    ],
    "pycharm": {
     "name": "#%%\n"
    }
   },
   "source": [
    "face_encodings = []\n",
    "names = []\n",
    "for image in os.listdir('umbrella'):\n",
    "    image_path = f\"umbrella/{image}\"\n",
    "    print(image_path)\n",
    "    resident = face_recognition.load_image_file(image_path)\n",
    "    face_encoding = face_recognition.face_encodings(resident)[0]\n",
    "    face_encodings.append(face_encoding)\n",
    "    names.append(image.split('.')[0])\n",
    "\n",
    "joblib.dump([names, face_encodings], 'face_encodings.jl')"
   ],
   "execution_count": 5,
   "outputs": [
    {
     "name": "stdout",
     "text": "umbrella/Diego.jpg\numbrella/Klaus.jpg\numbrella/Sir_Reginald.jpg\numbrella/Five.jpg\numbrella/Ben.png\numbrella/Grace.png\numbrella/Allison.jpg\numbrella/Viktor.jpg\numbrella/Luther.jpg\n",
     "output_type": "stream"
    },
    {
     "output_type": "execute_result",
     "execution_count": 5,
     "data": {
      "text/plain": "['face_encodings.jl']"
     },
     "metadata": {}
    }
   ]
  },
  {
   "cell_type": "markdown",
   "source": [
    "Add new resident"
   ],
   "metadata": {
    "cell_id": "a136d64417c4468fac2f2cda8a753759",
    "tags": [],
    "deepnote_cell_type": "markdown",
    "deepnote_cell_height": 52.390625,
    "pycharm": {
     "name": "#%% md\n"
    }
   }
  },
  {
   "cell_type": "code",
   "metadata": {
    "cell_id": "b69f355fc2a144a0abbd18bd05cd9dc8",
    "tags": [],
    "deepnote_to_be_reexecuted": false,
    "source_hash": "1a8d6a9d",
    "execution_start": 1657669024185,
    "execution_millis": 2,
    "owner_user_id": "66e618a0-9d4b-41ad-b3ff-7c80cca443a2",
    "deepnote_cell_type": "code",
    "deepnote_cell_height": 423,
    "pycharm": {
     "name": "#%%\n"
    }
   },
   "source": [
    "@anvil.server.callable\n",
    "def add_resident(image):\n",
    "    image, name = image\n",
    "    try:\n",
    "        with anvil.media.TempFile(image) as filename:\n",
    "            visitor = face_recognition.load_image_file(filename)\n",
    "        visitor_face_encodings = face_recognition.face_encodings(visitor)\n",
    "        assert len(visitor_face_encodings) == 1, 'Too many faces in image.'\n",
    "        visitor_face_encoding = visitor_face_encodings[0]\n",
    "        names, face_encodings = joblib.load('face_encodings.jl')\n",
    "\n",
    "        results = face_recognition.compare_faces(face_encodings, visitor_face_encoding)\n",
    "        if not any(results):\n",
    "            face_encodings.append(visitor_face_encoding)\n",
    "            names.append(name.title())\n",
    "        joblib.dump([names, face_encodings], 'face_encodings.jl')\n",
    "    except Exception as e:\n",
    "        print(f\"Error: {e}\")\n",
    "        return False\n",
    "    return True"
   ],
   "execution_count": 6,
   "outputs": []
  },
  {
   "cell_type": "code",
   "metadata": {
    "cell_id": "0a5186c87f5b40b7887ae6c7787d89c8",
    "tags": [],
    "deepnote_to_be_reexecuted": false,
    "source_hash": "7cab976f",
    "execution_start": 1657669024191,
    "execution_millis": 5,
    "deepnote_cell_type": "code",
    "deepnote_cell_height": 297,
    "pycharm": {
     "name": "#%%\n"
    }
   },
   "source": [
    "@anvil.server.callable\n",
    "def remove_resident(firstname):\n",
    "    try:\n",
    "        firstname = firstname.replace(' ', '_').title()\n",
    "        names, face_encodings = joblib.load('face_encodings.jl')\n",
    "        idx = names.index(firstname)\n",
    "        del names[idx]\n",
    "        del face_encodings[idx]\n",
    "        joblib.dump([names, face_encodings], 'face_encodings.jl')\n",
    "    except Exception as e:\n",
    "        print(f\"Error: {e}\")\n",
    "        return False\n",
    "    return True"
   ],
   "execution_count": 7,
   "outputs": []
  },
  {
   "cell_type": "markdown",
   "source": [
    "Check person(s) in image"
   ],
   "metadata": {
    "cell_id": "70303aab8c174e809804e8b54a855713",
    "tags": [],
    "deepnote_cell_type": "markdown",
    "deepnote_cell_height": 52.390625,
    "pycharm": {
     "name": "#%% md\n"
    }
   }
  },
  {
   "cell_type": "code",
   "metadata": {
    "cell_id": "84a3e45108434ca0b25a32cdbcc4a3c9",
    "tags": [],
    "deepnote_to_be_reexecuted": false,
    "source_hash": "3fca5b26",
    "execution_start": 1657669024207,
    "execution_millis": 3,
    "deepnote_cell_type": "code",
    "deepnote_cell_height": 315,
    "pycharm": {
     "name": "#%%\n"
    }
   },
   "source": [
    "@anvil.server.callable\n",
    "def check_image(image):\n",
    "    with anvil.media.TempFile(image) as filename:\n",
    "            visitors = face_recognition.load_image_file(filename)\n",
    "    visitors_face_encodings = face_recognition.face_encodings(visitors)\n",
    "    names, face_encodings = joblib.load('face_encodings.jl')\n",
    "    output = []\n",
    "    for visitors_face_encoding in visitors_face_encodings:\n",
    "        results = face_recognition.compare_faces(face_encodings, visitors_face_encoding)\n",
    "        if any(results):\n",
    "            person = names[np.argmax(results)]\n",
    "            print(f\"Welcome {person}!\")\n",
    "            output.append(person)\n",
    "    return output, len(visitors_face_encodings) - len(output)"
   ],
   "execution_count": 8,
   "outputs": []
  },
  {
   "cell_type": "code",
   "metadata": {
    "cell_id": "6f23c6431e44417cb7ba09312c4ff571",
    "tags": [],
    "deepnote_to_be_reexecuted": false,
    "source_hash": "7ae2c9df",
    "execution_start": 1657669024213,
    "execution_millis": 42892,
    "deepnote_cell_type": "code",
    "deepnote_cell_height": 408,
    "deepnote_output_heights": [
     null,
     40.390625,
     40.390625
    ],
    "pycharm": {
     "name": "#%%\n"
    }
   },
   "source": [
    "anvil.server.wait_forever()"
   ],
   "execution_count": null,
   "outputs": [
    {
     "name": "stdout",
     "text": "Welcome Five!\nWelcome Ben!\nError: 'Fortune' is not in list\n",
     "output_type": "stream"
    }
   ]
  },
  {
   "cell_type": "markdown",
   "source": [
    "### Pre Anvil"
   ],
   "metadata": {
    "collapsed": false,
    "pycharm": {
     "name": "#%% md\n"
    }
   }
  },
  {
   "cell_type": "code",
   "execution_count": null,
   "outputs": [],
   "source": [
    "def check_image(image):\n",
    "    visitors = face_recognition.load_image_file(image)\n",
    "    visitors_face_encodings = face_recognition.face_encodings(visitors)\n",
    "\n",
    "    names, face_encodings = joblib.load('face_encodings.jl')\n",
    "    output = []\n",
    "    for visitors_face_encoding in visitors_face_encodings:\n",
    "        results = face_recognition.compare_faces(face_encodings, visitors_face_encoding)\n",
    "        if any(results):\n",
    "            person = names[np.argmax(results)]\n",
    "            output.append(person)\n",
    "    return output, len(visitors_face_encodings) - len(output)\n"
   ],
   "metadata": {
    "collapsed": false,
    "pycharm": {
     "name": "#%%\n"
    }
   }
  },
  {
   "cell_type": "code",
   "execution_count": null,
   "outputs": [],
   "source": [
    "for unknown in os.listdir('test'):\n",
    "    image_path = f\"test/{unknown}\"\n",
    "    print(image_path)\n",
    "    residents, n_visitors = check_image(image_path)\n",
    "\n",
    "    if n_visitors > 1:\n",
    "        visitors_text = f\" There are {n_visitors} unknown individuals at the door.\"\n",
    "    else:\n",
    "        visitors_text = f\" There is an unknown individual at the door.\" if n_visitors else \"\"\n",
    "\n",
    "    if len(residents) > 1:\n",
    "        residents_text = f\"Welcome {', '.join(residents[:-1])} and {residents[-1]}.\"\n",
    "    else:\n",
    "        residents_text = f\"Welcome {residents[0]}.\" if residents else \"\"\n",
    "\n",
    "    response_text = residents_text + visitors_text\n",
    "    print(response_text)"
   ],
   "metadata": {
    "collapsed": false,
    "pycharm": {
     "name": "#%%\n"
    }
   }
  },
  {
   "cell_type": "code",
   "execution_count": null,
   "outputs": [],
   "source": [
    "def add_resident(image):\n",
    "    try:\n",
    "        visitor = face_recognition.load_image_file(image)\n",
    "        visitor_face_encodings = face_recognition.face_encodings(visitor)\n",
    "        assert len(visitor_face_encodings) == 1\n",
    "        visitor_face_encoding = visitor_face_encodings[0]\n",
    "        names, face_encodings = joblib.load('face_encodings.jl')\n",
    "\n",
    "        results = face_recognition.compare_faces(face_encodings, visitor_face_encoding)\n",
    "        if not any(results):\n",
    "            face_encodings.append(visitor_face_encoding)\n",
    "            names.append(image.split('/')[-1].split('.')[0].title())\n",
    "        joblib.dump([names, face_encodings], 'face_encodings.jl')\n",
    "    except Exception as e:\n",
    "        print(f\"Error: {e}\")\n",
    "        return Falsen_visitors\n",
    "    return True"
   ],
   "metadata": {
    "collapsed": false,
    "pycharm": {
     "name": "#%%\n"
    }
   }
  },
  {
   "cell_type": "code",
   "metadata": {
    "cell_id": "36fda79a7f6e49f1811e1066f4669f1a",
    "tags": [],
    "deepnote_to_be_reexecuted": true,
    "source_hash": "e8bc5998",
    "execution_start": 1657241813854,
    "execution_millis": 3917,
    "deepnote_cell_type": "code",
    "deepnote_cell_height": 350,
    "pycharm": {
     "name": "#%%\n"
    }
   },
   "source": [
    "lila = 'test/Lila.jpg'\n",
    "result = check_image(lila)\n",
    "if not result[0] and result[1] > 0:\n",
    "    print('There is an unknown individual at the door.')\n",
    "else:\n",
    "    print(f\"Welcome, {result[0][0]}\")\n",
    "print(add_resident(lila))\n",
    "result = check_image(lila)\n",
    "if not result[0] and result[1] > 0:\n",
    "    print('There is an unknown individual at the door.')\n",
    "else:\n",
    "    print(f\"Welcome, {result[0][0]}.\")"
   ],
   "execution_count": null,
   "outputs": [
    {
     "name": "stdout",
     "text": "There is an unknown individual at the door.\nTrue\nWelcome, Lila.\n",
     "output_type": "stream"
    }
   ]
  },
  {
   "cell_type": "code",
   "metadata": {
    "cell_id": "8446142bb2c34d87a0ed2da5cc6915b3",
    "tags": [],
    "deepnote_to_be_reexecuted": true,
    "source_hash": "21adbb9b",
    "execution_start": 1657240308487,
    "execution_millis": 0,
    "deepnote_cell_type": "code",
    "deepnote_cell_height": 279,
    "pycharm": {
     "name": "#%%\n"
    }
   },
   "source": [
    "def remove_resident(firstname):\n",
    "    try:\n",
    "        firstname = firstname.replace(' ', '_').title()\n",
    "        names, face_encodings = joblib.load('face_encodings.jl')\n",
    "        idx = names.index(firstname)\n",
    "        del names[idx]\n",
    "        del face_encodings[idx]\n",
    "        joblib.dump([names, face_encodings], 'face_encodings.jl')\n",
    "    except Exception as e:\n",
    "        print(f\"Error: {e}\")\n",
    "        return False\n",
    "    return True"
   ],
   "execution_count": null,
   "outputs": []
  },
  {
   "cell_type": "code",
   "metadata": {
    "cell_id": "026d7b945b0f44208033ebffdef72a94",
    "tags": [],
    "deepnote_to_be_reexecuted": true,
    "source_hash": "5521f594",
    "execution_start": 1657240341778,
    "execution_millis": 1803,
    "deepnote_cell_type": "code",
    "deepnote_cell_height": 166,
    "pycharm": {
     "name": "#%%\n"
    }
   },
   "source": [
    "remove_resident('Lila')\n",
    "result = check_image(lila)\n",
    "if not result[0] and result[1] > 0:\n",
    "    print('There is an unknown individual at the door.')"
   ],
   "execution_count": null,
   "outputs": [
    {
     "name": "stdout",
     "text": "There is an unknown individual at the door.\n",
     "output_type": "stream"
    }
   ]
  },
  {
   "cell_type": "markdown",
   "source": [
    "<a style='text-decoration:none;line-height:16px;display:flex;color:#5B5B62;padding:10px;justify-content:end;' href='https://deepnote.com?utm_source=created-in-deepnote-cell&projectId=60f840d8-661a-44b2-9944-36676f0c567f' target=\"_blank\">\n",
    "<img alt='Created in deepnote.com' style='display:inline;max-height:16px;margin:0px;margin-right:7.5px;' src='data:image/svg+xml;base64,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' > </img>\n",
    "Created in <span style='font-weight:600;margin-left:4px;'>Deepnote</span></a>"
   ],
   "metadata": {
    "tags": [],
    "created_in_deepnote_cell": true,
    "deepnote_cell_type": "markdown",
    "pycharm": {
     "name": "#%% md\n"
    }
   }
  }
 ],
 "nbformat": 4,
 "nbformat_minor": 2,
 "metadata": {
  "orig_nbformat": 2,
  "deepnote": {},
  "deepnote_notebook_id": "981a8f7a-66fc-45f0-93d9-8c9ce9532674",
  "deepnote_execution_queue": [
   {
    "cellId": "6f23c6431e44417cb7ba09312c4ff571",
    "sessionId": "323f3413-eafb-4df2-884e-6b117ee25fea",
    "msgId": "8447c8af-6517-46ed-993f-070ae409f1ac"
   }
  ]
 }
}